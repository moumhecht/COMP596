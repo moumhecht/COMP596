{
 "cells": [
  {
   "cell_type": "code",
   "execution_count": 2,
   "metadata": {},
   "outputs": [],
   "source": [
    "import numpy as np"
   ]
  },
  {
   "cell_type": "code",
   "execution_count": 3,
   "metadata": {},
   "outputs": [],
   "source": [
    "pi = np.pi"
   ]
  },
  {
   "cell_type": "markdown",
   "metadata": {},
   "source": [
    "Recycling my code from hw 1:"
   ]
  },
  {
   "cell_type": "code",
   "execution_count": 4,
   "metadata": {},
   "outputs": [],
   "source": [
    "def ludecmp(A, N):\n",
    "\n",
    "    #this function performs LU decomposition of a matrix A\n",
    "\n",
    "    tiny = 1e-20\n",
    "\n",
    "    d = 1.  \n",
    "    # initialize vectors\n",
    "    vv = np.zeros(N)\n",
    "    indx = [0] * N\n",
    "\n",
    "    for ii in range(0,N): # python index starts at i = 0, range does not include N\n",
    "\n",
    "        a_max = 0. # big = 0\n",
    "\n",
    "\n",
    "        # search for largest entry in row and store\n",
    "        for jj in range(0,N):  \n",
    "\n",
    "            a_ij = np.abs(A[ii,jj])  #temp = abs(a_ij)\n",
    "\n",
    "            if (a_ij > a_max):\n",
    "                a_max = a_ij\n",
    "\n",
    "\n",
    "        # check if matrix is singular; exit if singular    \n",
    "        if (a_max == 0.):\n",
    "                print(\"This matrix is singular\")\n",
    "                exit\n",
    "\n",
    "        # store value to divide row by\n",
    "        vv[ii] = 1./a_max\n",
    "    #print(vv)\n",
    "\n",
    "    for jj in range(0,N):\n",
    "\n",
    "        for ii in range(0,jj):\n",
    "\n",
    "            sums = A[ii,jj]\n",
    "\n",
    "            for kk in range(0,ii):\n",
    "\n",
    "                sums = sums - A[ii,kk] * A[kk, jj]\n",
    "            \n",
    "            A[ii,jj] = sums\n",
    "\n",
    "        a_max = 0.\n",
    "\n",
    "        for ii in range(jj,N): \n",
    "            sums = A[ii,jj]\n",
    "\n",
    "            for kk in range(0,jj):\n",
    "\n",
    "                sums = sums - A[ii,kk] * A[kk, jj]\n",
    "\n",
    "            A[ii,jj] = sums\n",
    "\n",
    "            dummy = vv[ii] * np.abs(sums)\n",
    "\n",
    "        # storing index for pivot\n",
    "            if (dummy >= a_max):\n",
    "                a_max = dummy\n",
    "\n",
    "                i_max = ii\n",
    "               \n",
    "        # pivoting\n",
    "        if (jj != i_max):\n",
    "\n",
    "            for kk in range(0,N):\n",
    "\n",
    "                dummy = A[i_max,kk]\n",
    "\n",
    "                A[i_max,kk] = A[jj,kk]\n",
    "\n",
    "                A[jj,kk] = dummy\n",
    "\n",
    "        #storing account of pivot\n",
    "            d = -d\n",
    "\n",
    "            vv[i_max] = vv[jj]\n",
    "\n",
    "        indx[jj] = i_max\n",
    " \n",
    "        # account for division by zero\n",
    "\n",
    "        if (A[jj,jj] == 0.):\n",
    "            A[jj,jj] = tiny\n",
    "        \n",
    "\n",
    "        # for jj not the last value: jj = 0, 1 \n",
    "        if (jj != N-1): \n",
    "            dummy = 1/A[jj,jj]\n",
    "\n",
    "            for ii in range(jj+1, N): \n",
    "                A[ii,jj] = A[ii,jj] * dummy\n",
    "\n",
    "    \n",
    "    #print(A)\n",
    "    #print(indx)\n",
    "    return indx, d, A\n"
   ]
  },
  {
   "cell_type": "code",
   "execution_count": 5,
   "metadata": {},
   "outputs": [],
   "source": [
    "\n",
    "def lubksb(b,A,N,indx):\n",
    "    ii = -1 #python index starts at 0, so we go one less than 0\n",
    "    for i in range(0,N):\n",
    "        ll = indx[i]\n",
    "        #print(ll)\n",
    "        sums = b[ll]\n",
    "        #print(i,sums)\n",
    "        b[ll] = b[i]\n",
    "\n",
    "        if (ii != -1):\n",
    "            for jj in range(ii, i):\n",
    "                sums -= A[i,jj] * b[jj]\n",
    "                #print(jj,sums)\n",
    "        elif (sums != 0.):\n",
    "            ii = i\n",
    "            \n",
    "\n",
    "        b[i] = sums\n",
    "        #print(i,b[i])\n",
    "\n",
    "    for i in range(N-1,-1,-1):\n",
    "        sums = b[i]\n",
    "        for jj in range(i+1,N):\n",
    "            sums -=  A[i,jj] * b[jj]\n",
    "\n",
    "        b[i] = sums/A[i,i]\n",
    "        #print(i,b[i])\n",
    "\n",
    "    return b"
   ]
  },
  {
   "cell_type": "markdown",
   "metadata": {},
   "source": [
    "## Problem 1, Dimensionless Group 1 ($\\lambda$)\n",
    "\n",
    "$$ \\left[\\begin{array}{cccc} -3 & 2 & 1 & 1 \\\\ 0 & -1 & 0 & -2 \\\\ 1 & 0 & 0 & 1 \\\\ 0 & 0 & 0& -2 \\end{array}\\right]\n",
    "\\left[\\begin{array}{c} \\alpha\\\\\\beta \\\\ \\gamma \\\\\\delta \\end{array}\\right]=\n",
    "\\left[\\begin{array}{c} 2\\\\-1 \\\\ 0\\\\0 \\end{array}\\right]$$"
   ]
  },
  {
   "cell_type": "code",
   "execution_count": 6,
   "metadata": {},
   "outputs": [
    {
     "name": "stdout",
     "output_type": "stream",
     "text": [
      "[ 0.  1.  0. -0.]\n"
     ]
    }
   ],
   "source": [
    "# construct A matrix\n",
    "A = np.array([[-3., 2., 1., 1.], [0., -1., 0.,-2.] , [1., 0., 0.,1.],[0.,0.,0.,-2.]])\n",
    "b = np.array([2., -1.,0.,0.])\n",
    "# Store size N for any N x N matrix\n",
    "\n",
    "N = np.size(b)\n",
    "\n",
    "indx, d, A_new = ludecmp(A,N)\n",
    "\n",
    "x = lubksb(b,A_new,N,indx)\n",
    "\n",
    "print(x)"
   ]
  },
  {
   "cell_type": "markdown",
   "metadata": {},
   "source": [
    "## Problem 1, Dimensionless Group 2 ($B_0$)\n",
    "\n",
    "$$ \\left[\\begin{array}{cccc} -3 & 2 & 1 & 1 \\\\ 0 & -1 & 0 & -2 \\\\ 1 & 0 & 0 & 1 \\\\ 0 & 0 & 0& -2 \\end{array}\\right]\n",
    "\\left[\\begin{array}{c} \\alpha\\\\\\beta \\\\ \\gamma \\\\\\delta \\end{array}\\right]=\n",
    "\\left[\\begin{array}{c} 0\\\\-2 \\\\ 1\\\\-1 \\end{array}\\right]$$"
   ]
  },
  {
   "cell_type": "code",
   "execution_count": 7,
   "metadata": {},
   "outputs": [
    {
     "name": "stdout",
     "output_type": "stream",
     "text": [
      "[ 0.5  1.  -1.   0.5]\n"
     ]
    }
   ],
   "source": [
    "# construct A matrix\n",
    "A = np.array([[-3., 2., 1., 1.], [0., -1., 0.,-2.] , [1., 0., 0.,1.],[0.,0.,0.,-2.]])\n",
    "b = np.array([0., -2.,1.,-1.])\n",
    "# Store size N for any N x N matrix\n",
    "\n",
    "N = np.size(b)\n",
    "\n",
    "indx, d, A_new = ludecmp(A,N)\n",
    "\n",
    "x = lubksb(b,A_new,N,indx)\n",
    "\n",
    "print(x)"
   ]
  }
 ],
 "metadata": {
  "interpreter": {
   "hash": "916dbcbb3f70747c44a77c7bcd40155683ae19c65e1c03b4aa3499c5328201f1"
  },
  "kernelspec": {
   "display_name": "Python 3.8.10 64-bit",
   "language": "python",
   "name": "python3"
  },
  "language_info": {
   "codemirror_mode": {
    "name": "ipython",
    "version": 3
   },
   "file_extension": ".py",
   "mimetype": "text/x-python",
   "name": "python",
   "nbconvert_exporter": "python",
   "pygments_lexer": "ipython3",
   "version": "3.8.10"
  },
  "orig_nbformat": 4
 },
 "nbformat": 4,
 "nbformat_minor": 2
}
