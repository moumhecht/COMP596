{
 "cells": [
  {
   "cell_type": "code",
   "execution_count": 17,
   "metadata": {},
   "outputs": [],
   "source": [
    "import numpy as np"
   ]
  },
  {
   "cell_type": "code",
   "execution_count": 18,
   "metadata": {},
   "outputs": [],
   "source": [
    "pi = np.pi"
   ]
  },
  {
   "cell_type": "markdown",
   "metadata": {},
   "source": [
    "## Algorithm 1\n",
    "\n",
    "Given an $N \\times N$ matrix $A$ denoted as $\\{ a \\} _{i,j = 1}^{N,N}$ the routine replaces it by the LU decomposition of a row-wise permutation of itself. $\"a\"$ and $\"N\"$ are input. $\"a\"$ is also output, modified to apply the LU decomposition; $\\{ indx_i \\} _{i,j = 1}^N$ is an output vector that records the row permutation affected by the partial pivoting; $\"d\"$ is output and adopts $\\pm 1 $ depending on whether the number of row interchanges was even or off. This routine is used in combination with algorithm 2 to solve linear equations or invert a matrix."
   ]
  },
  {
   "cell_type": "code",
   "execution_count": 35,
   "metadata": {},
   "outputs": [],
   "source": [
    "def ludecmp(A, N):\n",
    "\n",
    "    #this function performs LU decomposition of a matrix A\n",
    "\n",
    "    tiny = 1e-20\n",
    "\n",
    "    d = 1.  \n",
    "\n",
    "    vv = np.zeros(N)\n",
    "    indx = np.zeros(N)\n",
    "\n",
    "    for ii in range(0,N): # python index starts at i = 0, range does not include N\n",
    "\n",
    "        a_max = 0. # big = 0\n",
    "\n",
    "        for jj in range(0,N):  \n",
    "\n",
    "            a_ij = np.abs(A[ii,jj])  #temp = abs(a_ij)\n",
    "\n",
    "            if (a_ij > a_max):\n",
    "                a_max = a_ij\n",
    "\n",
    "\n",
    "        # check if matrix is singular; exit if singular    \n",
    "        if (a_max == 0.):\n",
    "                print(\"This matrix is singular\")\n",
    "                exit\n",
    "\n",
    "        vv[ii] = 1./a_max\n",
    "        \n",
    "\n",
    "    for jj in range(0,N):\n",
    "\n",
    "        for ii in range(0,jj-1):\n",
    "\n",
    "            sums = A[ii,jj]\n",
    "\n",
    "            for kk in range(0,ii-1):\n",
    "\n",
    "                sums = sums - A[ii,kk] * A[kk, jj]\n",
    "            \n",
    "            A[ii,jj] = sums\n",
    "\n",
    "        a_max = 0.\n",
    "\n",
    "        for ii in range(jj,N): \n",
    "            sums = A[ii,jj]\n",
    "\n",
    "            for kk in range(0,jj-1):\n",
    "\n",
    "                sums = sums - A[ii,kk] * A[kk, jj]\n",
    "\n",
    "            A[ii,jj] = sums\n",
    "\n",
    "            dummy = vv[ii] * np.abs(A[ii,jj])\n",
    "\n",
    "            if (dummy >= a_max):\n",
    "                a_max = dummy\n",
    "\n",
    "                i_max = ii\n",
    "\n",
    "\n",
    "        if (jj != i_max):\n",
    "\n",
    "            for kk in range(0,N):\n",
    "\n",
    "                dummy = A[i_max,kk]\n",
    "\n",
    "                A[i_max,kk] = A[jj,kk]\n",
    "\n",
    "                A[jj,kk] = dummy\n",
    "\n",
    "\n",
    "            d = -d\n",
    "\n",
    "            vv[i_max] = vv[jj]\n",
    "\n",
    "        indx[jj] = i_max\n",
    "\n",
    "            # account for division by zero\n",
    "\n",
    "        if (A[jj,jj] == 0.):\n",
    "            A[jj,jj] = tiny\n",
    "\n",
    "        if (jj != N):\n",
    "            dummy = 1/A[jj,jj]\n",
    "\n",
    "            for ii in range(jj, N): ## indexing might just be jj not jj +1\n",
    "                A[ii,jj] = A[ii,jj] * dummy\n",
    "\n",
    "    print(A)\n",
    "    return indx, d, A\n"
   ]
  },
  {
   "cell_type": "code",
   "execution_count": 36,
   "metadata": {},
   "outputs": [
    {
     "name": "stdout",
     "output_type": "stream",
     "text": [
      "[[ 1  8 -7]\n",
      " [ 0  1 -1]\n",
      " [ 0 -2  1]]\n"
     ]
    }
   ],
   "source": [
    "# construct A matrix\n",
    "A =np.matrix([[1, 2, -1], [6, -5, 4] , [-9, 8, -7]])\n",
    "b = np.array([2*pi, 5*pi,-8*pi])\n",
    "\n",
    "# Store size N for any N x N matrix\n",
    "\n",
    "N = np.shape(A)[0]\n",
    "\n",
    "indx, d, A = ludecmp(A,N)\n"
   ]
  },
  {
   "cell_type": "markdown",
   "metadata": {},
   "source": [
    "## Algorithm 2\n",
    "\n",
    "Solve the set of $N$ linear equations $\\textbf{A} \\vec{x} = \\vec{b}$. Matrix $\\{ a \\} _{i,j = 1}^{N,N}$ is the LU decomposition of original matrix $A$ obtained from Algorithm 1. Vector $\\{ indx_i \\} _{i,j = 1}^N$ is input as the permutation vector returned by Algorithm 1. Vector $\\{b_i\\} _{i=1}^N$ is input as the right hand side vector $\\vec{b}$ but returns with solution vector $\\vec{x}$. Inputs $\\{ a \\} _{i,j = 1}^{N,N}$, $N$ and $\\{ indx_i \\} _{i,j = 1}^N$ "
   ]
  },
  {
   "cell_type": "code",
   "execution_count": 21,
   "metadata": {},
   "outputs": [],
   "source": [
    "def lubksb(b,A,N,indx):\n",
    "    ii = 0\n",
    "    for i in range (0,N):\n",
    "        ip = indx[i]\n",
    "        sums = b[ip]\n",
    "        b[ip] = b[i]\n",
    "\n",
    "        if (ii != 0.):\n",
    "            for jj in range(ii, i-1):\n",
    "                sums = sums - a[i,jj] * b[jj]\n",
    "        elif (sums != 0.):\n",
    "            ii = i\n",
    "        \n",
    "    b[i] = sums\n",
    "\n",
    "    for i in range(N-1,0,-1):\n",
    "        sums = b[i]\n",
    "        for jj in range (i,N):\n",
    "            sums = sums - a[i,jj] * b[jj]\n",
    "\n",
    "        b[i] = sums/a[ii,ii]\n",
    "        \n",
    "    return b"
   ]
  },
  {
   "cell_type": "code",
   "execution_count": 22,
   "metadata": {},
   "outputs": [
    {
     "name": "stdout",
     "output_type": "stream",
     "text": [
      "[[ 1  8 -7]\n",
      " [ 0  1 -1]\n",
      " [ 0 -2  1]]\n"
     ]
    }
   ],
   "source": [
    "# construct A matrix\n",
    "A =np.matrix([[1, 2, -1], [6, -5, 4] , [-9, 8, -7]])\n",
    "b = np.array([2*pi, 5*pi,-8*pi])\n",
    "# Store size N for any N x N matrix\n",
    "\n",
    "N = np.shape(A)[0]\n",
    "\n",
    "indx, d, A = ludecmp(A,N)\n"
   ]
  },
  {
   "cell_type": "code",
   "execution_count": null,
   "metadata": {},
   "outputs": [],
   "source": []
  }
 ],
 "metadata": {
  "interpreter": {
   "hash": "31f2aee4e71d21fbe5cf8b01ff0e069b9275f58929596ceb00d14d90e3e16cd6"
  },
  "kernelspec": {
   "display_name": "Python 3.8.10 64-bit",
   "language": "python",
   "name": "python3"
  },
  "language_info": {
   "codemirror_mode": {
    "name": "ipython",
    "version": 3
   },
   "file_extension": ".py",
   "mimetype": "text/x-python",
   "name": "python",
   "nbconvert_exporter": "python",
   "pygments_lexer": "ipython3",
   "version": "3.8.10"
  },
  "orig_nbformat": 4
 },
 "nbformat": 4,
 "nbformat_minor": 2
}
