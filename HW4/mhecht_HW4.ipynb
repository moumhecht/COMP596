{
 "cells": [
  {
   "cell_type": "code",
   "execution_count": 37,
   "metadata": {},
   "outputs": [],
   "source": [
    "import numpy as np\n",
    "import matplotlib.pyplot as plt\n",
    "%matplotlib inline"
   ]
  },
  {
   "cell_type": "markdown",
   "metadata": {},
   "source": [
    "## Analytical Solution"
   ]
  },
  {
   "cell_type": "markdown",
   "metadata": {},
   "source": [
    "Starting with the second order differential equation:\n",
    "$$u'' +2u' +u = 0$$\n",
    "with initial conditions \n",
    "$$u'(0)= 0, u(0) = 1$$\n",
    "\n",
    "We assume a solution of the form $u(t) = e^{\\lambda t}$, plugging this *ansatz* into the differential equation and dividng both sides by  $e^{\\lambda t}$ results in the characteristic polynomial:\n",
    "$$\\lambda ^2 + 2 \\lambda +1 = 0$$\n",
    "This factors to\n",
    "$$(\\lambda +1)(\\lambda+1) = 0$$\n",
    "Thus,\n",
    "$$\\lambda = -1,-1$$\n",
    "\n",
    "This is a repeated root so the general solution is given by\n",
    "$$u(t) = Ae^{-t}+Bte^{-t}$$\n",
    "\n",
    "To solve for $A$ and $B$, we will apply the initial conditions. We will first start by taking the first derivative of $u(t)$:\n",
    "$$u'(t) = -Ae^{-t}+Be^{-t}-Bte^{-t}$$\n",
    "\n",
    "$$u(0) =1 = Ae^0 + B(0)e^0 \\implies A=1$$\n",
    "$$u'(0) = 0 = -Ae^0+Be^0 -B(0)e^0 \\implies 0 = -1 + B \\implies B = 1$$\n",
    "\n",
    "We (finally) get to our particular solution:\n",
    "$$u(t) = e^{-t}+te^{-t} = (1+t)  e^{-t}$$"
   ]
  },
  {
   "cell_type": "markdown",
   "metadata": {},
   "source": [
    "We will start by plotting the exact (analytical) solution. We call for step size $\\Delta t = 0.1$ so we can find the number of steps as\n",
    "$$ \\Delta t = \\frac{t_f - t_i}{N} \\iff N = \\frac{t_f -t_i}{\\Delta t}$$\n",
    "For this problem, we are considering the interval where $t_i = 0$  and $t_f=10$."
   ]
  },
  {
   "cell_type": "code",
   "execution_count": 38,
   "metadata": {},
   "outputs": [
    {
     "data": {
      "image/png": "[encoded data removed]",
      "text/plain": [
       "<Figure size 432x288 with 1 Axes>"
      ]
     },
     "metadata": {
      "needs_background": "light"
     },
     "output_type": "display_data"
    }
   ],
   "source": [
    "dt =  0.1\n",
    "N = int(10./dt)\n",
    "t = np.linspace(0,10,N+1)\n",
    "\n",
    "u_analytic = (1.+t)*np.exp(-t)\n",
    "\n",
    "plt.plot(t,u_analytic)\n",
    "plt.xlabel('$t$')\n",
    "plt.ylabel('$u(t)$')\n",
    "\n",
    "u_prime = -t*np.exp(-t)"
   ]
  },
  {
   "cell_type": "markdown",
   "metadata": {},
   "source": [
    "## Forward Euler\n",
    "We start by reducing $$u'' +2u' +u =0$$ from second order to two first order differential equations.\n",
    " \n",
    "Let $u_1 = u(t)$, and let $u_2 = u'(t)$.\n",
    " \n",
    "Then, $u_1 ' = u'(t) = u_2$ and $u_2' = u''(t) = -2u_2 - u_1$.\n",
    " \n",
    "Rewriting this as a matrix:\n",
    "$$\\left( \\begin{array}{c} u_1' \\\\ u_2'\\end{array} \\right) = \\left( \\begin{array}{cc} 0 & 1\\\\ -1 & -2\\end{array} \\right) \\left( \\begin{array}{c} u_1 \\\\ u_2\\end{array} \\right)  $$\n",
    " \n",
    "We recall that forward Euler is given by\n",
    "$$x_{i +1} = x_i  + \\Delta t f(t_i , x_i)$$\n",
    " \n",
    "Letting $u_1 = x$ and $u_2 = y$, we can represent our system as\n",
    "$$\\left( \\begin{array}{c} x_{i+1} \\\\ y_{i+1}\\end{array} \\right) =\\left( \\begin{array}{c} x_{i} \\\\ y_{i}\\end{array} \\right)+ \\Delta t \\left( \\begin{array}{cc} 0 & 1\\\\ -1 & -2\\end{array} \\right) \\left( \\begin{array}{c} x_i \\\\ y_i\\end{array} \\right)  $$\n",
    " \n",
    "And combining like terms:\n",
    "$$\\left( \\begin{array}{c} x_{i+1} \\\\ y_{i+1}\\end{array} \\right) = \\left( \\begin{array}{cc} 1 & \\Delta t\\\\ -\\Delta t & 1-2\\Delta t\\end{array} \\right) \\left( \\begin{array}{c} x_i \\\\ y_i\\end{array} \\right)  $$"
   ]
  },
  {
   "cell_type": "code",
   "execution_count": 39,
   "metadata": {},
   "outputs": [],
   "source": [
    "def forward(dt,tf,ti,x_0,y_0):\n",
    "\n",
    "    #Determine Number of Time Steps\n",
    "    N = int((tf-ti)/dt)\n",
    "\n",
    "    # Make initialized arrays for x_i and y_i for all time\n",
    "    xi = np.zeros(N+1) \n",
    "    yi = np.zeros(N+1)\n",
    "\n",
    "    # Initial condition on array (for this problem we could have used np.ones(N) for xi, but we extend to a general case)\n",
    "    t = np.linspace(ti,tf,N+1)\n",
    "    xi[0] = x_0\n",
    "    yi[0] = y_0\n",
    "\n",
    "    # Construct evolution matrix\n",
    "\n",
    "    A = np.matrix([[1.,dt],[-dt,1.-2.*dt]])\n",
    "   \n",
    "  \n",
    "    # Go through the process\n",
    "\n",
    "    for ii in range(0,N):\n",
    "        xi[ii+1] = A[0]*np.matrix([[xi[ii]],[yi[ii]]])\n",
    "        yi[ii+1] = A[1]*np.matrix([[xi[ii]],[yi[ii]]])\n",
    "    \n",
    "    return xi,  yi"
   ]
  },
  {
   "cell_type": "markdown",
   "metadata": {},
   "source": [
    "## Backward Euler\n",
    "We will start with the same system as the Forward Euler Method\n",
    "where $u_1 = u(t)$,  $u_2 = u'(t)$, $u_1 ' = u'(t) = u_2$ and $u_2' = u''(t) = -2u_2 - u_1$, resulting in the matrix: \n",
    "$$\\left( \\begin{array}{c} u_1' \\\\ u_2'\\end{array} \\right) = \\left( \\begin{array}{cc} 0 & 1\\\\ -1 & -2\\end{array} \\right) \\left( \\begin{array}{c} u_1 \\\\ u_2\\end{array} \\right)  $$\n",
    " \n",
    "\n",
    "\n",
    " We recall that backward Euler is given by\n",
    "$$x_{i +1} = x_i  + \\Delta t f(t_{i+1} , x_{i+1})$$\n",
    " \n",
    "Letting $u_1 = x$ and $u_2 = y$, we can represent our system as\n",
    "$$\\left( \\begin{array}{c} x_{i+1} \\\\ y_{i+1}\\end{array} \\right) =\\left( \\begin{array}{c} x_{i} \\\\ y_{i}\\end{array} \\right)+ \\Delta t \\left( \\begin{array}{cc} 0 & 1\\\\ -1 & -2\\end{array} \\right) \\left( \\begin{array}{c} x_{i+1} \\\\ y_{i+1}\\end{array} \\right)  $$\n",
    "\n",
    "We subtract the ${x_{i+1}}$ and $y_{i+1}$ term on both sides, and collecting like terms:\n",
    "\n",
    "$$ \\left( \\begin{array}{cc} 1 & -\\Delta t\\\\ \\Delta t & 1+2\\Delta t\\end{array} \\right) \n",
    "\\left( \\begin{array}{c} x_{i+1} \\\\ y_{i+1}\\end{array} \\right) =\\left( \\begin{array}{c} x_{i} \\\\ y_{i}\\end{array} \\right)  $$\n",
    "\n",
    "Multiplying by $$\\left( \\begin{array}{cc} 1 & -\\Delta t\\\\ \\Delta t & 1+2\\Delta t\\end{array} \\right)^{-1} $$ on both sides results in\n",
    "\n",
    "\n",
    "$$\\left( \\begin{array}{c} x_{i+1} \\\\ y_{i+1}\\end{array} \\right) = \\left( \\begin{array}{cc} 1 & -\\Delta t\\\\ \\Delta t & 1+2\\Delta t\\end{array} \\right)^{-1} \\left( \\begin{array}{c} x_{i} \\\\ y_{i}\\end{array} \\right)  $$"
   ]
  },
  {
   "cell_type": "code",
   "execution_count": 40,
   "metadata": {},
   "outputs": [],
   "source": [
    "from numpy.linalg import inv"
   ]
  },
  {
   "cell_type": "code",
   "execution_count": 41,
   "metadata": {},
   "outputs": [],
   "source": [
    "def backward(dt,tf,ti,x_0,y_0):\n",
    "\n",
    "    #Determine Number of Time Steps\n",
    "    N = int((tf-ti)/dt)\n",
    "\n",
    "    # Make initialized arrays for x_i and y_i for all time\n",
    "    xi = np.zeros(N+1) \n",
    "    yi = np.zeros(N+1)\n",
    "\n",
    "    # Initial condition on array\n",
    "    xi[0] = x_0\n",
    "    yi[0] = y_0\n",
    "\n",
    "    # Construct evolution matrix\n",
    "\n",
    "    A = np.matrix([[1.,-dt],[dt,1.+2.*dt]])\n",
    "    A_inv = inv(A)\n",
    "   \n",
    "  \n",
    "    # Go through the process\n",
    "\n",
    "    for ii in range(0,N):\n",
    "        xi[ii+1] = A_inv[0]*np.matrix([[xi[ii]],[yi[ii]]])\n",
    "        yi[ii+1] = A_inv[1]*np.matrix([[xi[ii]],[yi[ii]]])\n",
    "    \n",
    "    return xi, yi\n"
   ]
  },
  {
   "cell_type": "markdown",
   "metadata": {},
   "source": [
    "## Implicit Trapezoid Rule\n",
    "The Trapezoid Rule is defined as\n",
    "$$x_{i+1} = x_i + \\frac{\\Delta t}{2} \\left[ f(t_i,x_i) +f(t_{i+1},x_{i+1})\\right]$$\n",
    "\n",
    "Using the results from both the forward and backward Euler methods, we obtain:\n",
    "\n",
    "$$\\left( \\begin{array}{c} x_{i+1} \\\\ y_{i+1}\\end{array} \\right) =\\left( \\begin{array}{c} x_{i} \\\\ y_{i}\\end{array} \\right)+ \\frac{\\Delta t}{2} \\left( \\begin{array}{cc} 0 & 1\\\\ -1 & -2\\end{array} \\right) \\left( \\begin{array}{c} x_i \\\\ y_i\\end{array} \\right)  + \\frac{\\Delta t}{2}\\left( \\begin{array}{cc} 0 & 1\\\\ -1 & -2\\end{array} \\right) \\left( \\begin{array}{c} x_{i+1} \\\\ y_{i+1}\\end{array} \\right)$$\n",
    "\n",
    "Then, rearranging to have the $i+1$ terms on the LHS and the $i$ terms on the RHS:\n",
    "\n",
    "$$\\left( \\begin{array}{c} x_{i+1} \\\\ y_{i+1}\\end{array} \\right) - \\frac{\\Delta t}{2}\\left( \\begin{array}{cc} 0 & 1\\\\ -1 & -2\\end{array} \\right) \\left( \\begin{array}{c} x_{i+1} \\\\ y_{i+1}\\end{array} \\right)=\\left( \\begin{array}{c} x_{i} \\\\ y_{i}\\end{array} \\right)+ \\frac{\\Delta t}{2} \\left( \\begin{array}{cc} 0 & 1\\\\ -1 & -2\\end{array} \\right) \\left( \\begin{array}{c} x_i \\\\ y_i\\end{array} \\right) $$\n",
    "\n",
    "$$ \\implies \\left[\\left( \\begin{array}{cc} 1 & 0 \\\\ 0 & 1 \\end{array} \\right) + \\left( \\begin{array}{cc} 0 & -\\Delta t /2 \\\\ \\Delta t /2 & \\Delta t \\end{array}\\right)\\right] \\left( \\begin{array}{c} x_{i+1} \\\\ y_{i+1}\\end{array} \\right) = \\left[\\left( \\begin{array}{cc} 1 & 0 \\\\ 0 & 1 \\end{array} \\right) + \\left( \\begin{array}{cc} 0 & \\Delta t /2 \\\\ -\\Delta t /2 & -\\Delta t \\end{array}\\right)\\right] \\left( \\begin{array}{c} x_i \\\\ y_i\\end{array} \\right)$$\n",
    "$$\\implies \\left(\\begin{array}{cc} 1 & - \\Delta t /2 \\\\ \\Delta t /2 & 1 + \\Delta t\\end{array} \\right) \\left( \\begin{array}{c} x_{i+1} \\\\ y_{i+1}\\end{array} \\right) =\\left(\\begin{array}{cc} 1 &  \\Delta t /2 \\\\ -\\Delta t /2 & 1 -\\Delta t\\end{array} \\right) \\left( \\begin{array}{c} x_{i} \\\\ y_{i}\\end{array} \\right) $$\n",
    "\n",
    "We then multiply both sides by \n",
    "$$ \\left(\\begin{array}{cc} 1 & - \\Delta t /2 \\\\ \\Delta t /2 & 1 + \\Delta t\\end{array} \\right)^{-1}$$\n",
    "to get \n",
    "$$ \\left( \\begin{array}{c} x_{i+1} \\\\ y_{i+1}\\end{array} \\right) = \\left[\\left( \\begin{array}{cc} 1 & 0 \\\\ 0 & 1 \\end{array} \\right) + \\left( \\begin{array}{cc} 0 & \\Delta t /2 \\\\ -\\Delta t /2 & -\\Delta t \\end{array}\\right)\\right] \\left( \\begin{array}{c} x_i \\\\ y_i\\end{array} \\right)$$\n",
    "$$\\implies \\left(\\begin{array}{cc} 1 & - \\Delta t /2 \\\\ \\Delta t /2 & 1 + \\Delta t\\end{array} \\right) \\left( \\begin{array}{c} x_{i+1} \\\\ y_{i+1}\\end{array} \\right) = \\left(\\begin{array}{cc} 1 & - \\Delta t /2 \\\\ \\Delta t /2 & 1 + \\Delta t\\end{array} \\right)^{-1}\\left(\\begin{array}{cc} 1 &  \\Delta t /2 \\\\ -\\Delta t /2 & 1 -\\Delta t\\end{array} \\right) \\left( \\begin{array}{c} x_{i} \\\\ y_{i}\\end{array} \\right)$$\n",
    "\n",
    "We could solve for the product of this matrix by hand, but we have computers..."
   ]
  },
  {
   "cell_type": "code",
   "execution_count": 42,
   "metadata": {},
   "outputs": [],
   "source": [
    "def trapezoid(dt,tf,ti,x_0,y_0):\n",
    "\n",
    "    #Determine Number of Time Steps\n",
    "    N = int((tf-ti)/dt)\n",
    "\n",
    "    # Make initialized arrays for x_i and y_i for all time\n",
    "    xi = np.zeros(N+1) \n",
    "    yi = np.zeros(N+1)\n",
    "\n",
    "    # Initial condition on array\n",
    "    xi[0] = x_0\n",
    "    yi[0] = y_0\n",
    "\n",
    "    # Construct evolution matrix\n",
    "\n",
    "    A = np.matrix([[1.,-dt/2.],[dt/2.,1.+dt]])\n",
    "    A_inv = inv(A)\n",
    "\n",
    "    B = np.matrix([[1.,dt/2.],[-dt/2.,1.-dt]])\n",
    "    M = A_inv*B\n",
    "  \n",
    "    # Go through the process\n",
    "\n",
    "    for ii in range(0,N):\n",
    "        xi[ii+1] = M[0]*np.matrix([[xi[ii]],[yi[ii]]])\n",
    "        yi[ii+1] = M[1]*np.matrix([[xi[ii]],[yi[ii]]])\n",
    "    \n",
    "    \n",
    "    return xi, yi"
   ]
  },
  {
   "cell_type": "code",
   "execution_count": 43,
   "metadata": {},
   "outputs": [],
   "source": [
    "## Initial Conditions\n",
    "\n",
    "x_0 = 1. # u(0) = 1\n",
    "y_0 = 0. # u'(0) = 0\n",
    "\n",
    "# Interval\n",
    "tf = 10.\n",
    "ti = 0.\n",
    "\n",
    "# Time Step\n",
    "dt = 0.1\n",
    "\n",
    "u_forward,v_forward = forward(dt,tf,ti,x_0,y_0)\n",
    "u_backward,v_backward = backward(dt,tf,ti,x_0,y_0)\n",
    "u_trapezoid,v_trapezoid = trapezoid(dt,tf,ti,x_0,y_0)\n",
    "\n"
   ]
  },
  {
   "cell_type": "code",
   "execution_count": 44,
   "metadata": {},
   "outputs": [
    {
     "data": {
      "text/plain": [
       "[<matplotlib.lines.Line2D at 0x7ffe690814c0>]"
      ]
     },
     "execution_count": 44,
     "metadata": {},
     "output_type": "execute_result"
    },
    {
     "data": {
      "image/png": "[encoded data removed]",
      "text/plain": [
       "<Figure size 432x288 with 1 Axes>"
      ]
     },
     "metadata": {
      "needs_background": "light"
     },
     "output_type": "display_data"
    }
   ],
   "source": [
    "u1=forward(dt,tf,ti,x_0,y_0)\n",
    "plt.plot(t,u1[0])"
   ]
  },
  {
   "cell_type": "code",
   "execution_count": 45,
   "metadata": {},
   "outputs": [
    {
     "data": {
      "text/plain": [
       "<matplotlib.legend.Legend at 0x7ffe68d2bee0>"
      ]
     },
     "execution_count": 45,
     "metadata": {},
     "output_type": "execute_result"
    },
    {
     "data": {
      "image/png": "[encoded data removed]",
      "text/plain": [
       "<Figure size 432x288 with 1 Axes>"
      ]
     },
     "metadata": {
      "needs_background": "light"
     },
     "output_type": "display_data"
    }
   ],
   "source": [
    "plt.plot(t,u_forward,c = 'r',label= 'Forward Euler')\n",
    "plt.plot(t,u_backward,'--',c = 'm', label = 'Backward Euler')\n",
    "plt.plot(t,u_trapezoid, c= 'b', label = 'Implicit Trapezoid')\n",
    "plt.legend(loc='upper right')"
   ]
  },
  {
   "cell_type": "code",
   "execution_count": 46,
   "metadata": {},
   "outputs": [
    {
     "data": {
      "text/plain": [
       "<matplotlib.legend.Legend at 0x7ffe68c0fd30>"
      ]
     },
     "execution_count": 46,
     "metadata": {},
     "output_type": "execute_result"
    },
    {
     "data": {
      "image/png": "[encoded data removed]",
      "text/plain": [
       "<Figure size 432x288 with 1 Axes>"
      ]
     },
     "metadata": {
      "needs_background": "light"
     },
     "output_type": "display_data"
    }
   ],
   "source": [
    "plt.plot(u_analytic,u_prime, c= 'k',label = 'Analytic')\n",
    "plt.plot(u_forward,v_forward,c = 'r',label= 'Forward Euler')\n",
    "plt.plot(u_backward,v_backward,c = 'b', label = 'Backward Euler')\n",
    "plt.plot(u_trapezoid,v_trapezoid, '--', c= 'c', label = 'Implicit Trapezoid')\n",
    "\n",
    "plt.legend(loc='upper center')"
   ]
  },
  {
   "cell_type": "code",
   "execution_count": 47,
   "metadata": {},
   "outputs": [],
   "source": [
    "from numpy.linalg import norm"
   ]
  },
  {
   "cell_type": "code",
   "execution_count": 48,
   "metadata": {},
   "outputs": [],
   "source": [
    "def error(dt,tf,ti,x_0,y_0):\n",
    "    N = int((tf-ti)/dt)\n",
    "    t = np.linspace(ti,tf,N+1)\n",
    "\n",
    "    u_analytic = (1.+t)*np.exp(-t)\n",
    "    u_forward,dummy = forward(dt,tf,ti,x_0,y_0)\n",
    "\n",
    "    u_backward,dummy = backward(dt,tf,ti,x_0,y_0)\n",
    "    u_trapezoid,dummy = trapezoid(dt,tf,ti,x_0,y_0)\n",
    "\n",
    "  \n",
    "    LTE_forward = np.abs(u_analytic[N]-u_forward[N])\n",
    "    LTE_backward = np.abs(u_analytic[N]-u_backward[N])\n",
    "    LTE_trapezoid = np.abs(u_analytic[N]-u_trapezoid[N])\n",
    "\n",
    "    GTE_forward = norm(u_analytic-u_forward)**2\n",
    "    GTE_backward = norm(u_analytic-u_backward)**2\n",
    "    GTE_trapezoid = norm(u_analytic-u_trapezoid)**2\n",
    "\n",
    "    return LTE_forward, LTE_backward, LTE_trapezoid, GTE_forward, GTE_backward, GTE_trapezoid"
   ]
  },
  {
   "cell_type": "code",
   "execution_count": 49,
   "metadata": {},
   "outputs": [],
   "source": [
    "\n",
    "\n",
    "step = [0.01,0.01/2., 0.01/4., 0.01/8.,0.01/16.]\n",
    "\n",
    "nn = np.size(step)\n",
    "\n",
    "LTE_forward = np.zeros(nn)\n",
    "LTE_backward = np.zeros(nn)\n",
    "LTE_trapezoid = np.zeros(nn)\n",
    "\n",
    "GTE_forward = np.zeros(nn)\n",
    "GTE_backward = np.zeros(nn)\n",
    "GTE_trapezoid = np.zeros(nn)\n",
    "\n",
    "for ii in range(0,nn):\n",
    "    LTE_forward[ii], LTE_backward[ii], LTE_trapezoid[ii], GTE_forward[ii], GTE_backward[ii], GTE_trapezoid[ii] = error(step[ii],tf,ti,x_0,y_0)\n",
    "    \n",
    "\n"
   ]
  },
  {
   "cell_type": "code",
   "execution_count": 50,
   "metadata": {},
   "outputs": [
    {
     "data": {
      "text/plain": [
       "<matplotlib.legend.Legend at 0x7ffe68bae070>"
      ]
     },
     "execution_count": 50,
     "metadata": {},
     "output_type": "execute_result"
    },
    {
     "data": {
      "image/png": "[encoded data removed]",
      "text/plain": [
       "<Figure size 432x288 with 1 Axes>"
      ]
     },
     "metadata": {
      "needs_background": "light"
     },
     "output_type": "display_data"
    }
   ],
   "source": [
    "\n",
    "plt.plot(np.log(step),np.log(LTE_forward), label = 'LTE Forward')\n",
    "plt.plot(np.log(step),np.log(LTE_backward),'--', label = 'LTE Backward')\n",
    "plt.plot(np.log(step),np.log(LTE_trapezoid), label = 'LTE Trapezoid')\n",
    "plt.plot(np.log(step),np.log(GTE_forward), label = 'GTE Forward')\n",
    "plt.plot(np.log(step),np.log(GTE_backward),'--', label = 'GTE Backward')\n",
    "plt.plot(np.log(step),np.log(GTE_trapezoid), label = 'GTE Trapezoid')\n",
    "plt.legend(loc='lower right')"
   ]
  },
  {
   "cell_type": "code",
   "execution_count": 51,
   "metadata": {},
   "outputs": [
    {
     "name": "stdout",
     "output_type": "stream",
     "text": [
      "[ 0.99559793 -6.22496226]\n",
      "[ 1.0043743  -6.16190218]\n",
      "[ 1.99999676 -8.10290443]\n"
     ]
    }
   ],
   "source": [
    "m_forward= np.polyfit(np.log(step),np.log(LTE_forward),1)\n",
    "print(m_forward)\n",
    "m_backward =np.polyfit(np.log(step),np.log(LTE_backward),1)\n",
    "print(m_backward)\n",
    "m_trapezoid =np.polyfit(np.log(step),np.log(LTE_trapezoid),1)\n",
    "print(m_trapezoid)"
   ]
  },
  {
   "cell_type": "code",
   "execution_count": 52,
   "metadata": {},
   "outputs": [
    {
     "name": "stdout",
     "output_type": "stream",
     "text": [
      "[ 1.00217689 -2.75699342]\n",
      "[ 0.99784762 -2.78810008]\n",
      "[ 3.00001563 -6.35603484]\n"
     ]
    }
   ],
   "source": [
    "m_forward= np.polyfit(np.log(step),np.log(GTE_forward),1)\n",
    "print(m_forward)\n",
    "m_backward =np.polyfit(np.log(step),np.log(GTE_backward),1)\n",
    "print(m_backward)\n",
    "m_trapezoid =np.polyfit(np.log(step),np.log(GTE_trapezoid),1)\n",
    "print(m_trapezoid)"
   ]
  }
 ],
 "metadata": {
  "interpreter": {
   "hash": "916dbcbb3f70747c44a77c7bcd40155683ae19c65e1c03b4aa3499c5328201f1"
  },
  "kernelspec": {
   "display_name": "Python 3.8.10 64-bit",
   "language": "python",
   "name": "python3"
  },
  "language_info": {
   "codemirror_mode": {
    "name": "ipython",
    "version": 3
   },
   "file_extension": ".py",
   "mimetype": "text/x-python",
   "name": "python",
   "nbconvert_exporter": "python",
   "pygments_lexer": "ipython3",
   "version": "3.8.10"
  },
  "orig_nbformat": 4
 },
 "nbformat": 4,
 "nbformat_minor": 2
}
